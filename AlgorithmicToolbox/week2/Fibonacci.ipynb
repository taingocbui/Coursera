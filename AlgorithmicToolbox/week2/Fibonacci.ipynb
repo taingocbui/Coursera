{
 "cells": [
  {
   "cell_type": "code",
   "execution_count": 32,
   "metadata": {},
   "outputs": [],
   "source": [
    "# 2 Last Digit of a Large Fibonacci Number\n",
    "# Task. Given an integer n, find the nth Fibonacci number F n .\n",
    "# Input Format. The input consists of a single integer n.\n",
    "# Constraints. 0 ≤ n ≤ 45.\n",
    "\n",
    "def Fibonacci():\n",
    "    n = int(input())\n",
    "    a = list()\n",
    "    a = [None] * 500\n",
    "    a[0]=0\n",
    "    a[1]=1\n",
    "    for i in range(2, n+1):\n",
    "        a[i] = a[i-1] + a[i-2]\n",
    "    return a[n]\n",
    "\n",
    "# Task. Given an integer n, find the last digit of the nth Fibonacci number F n (that is, F n mod 10).\n",
    "# Input Format. The input consists of a single integer n.\n",
    "# Constraints. 0 ≤ n ≤ 10 7 .\n",
    "# Output Format. Output the last digit of F n .\n",
    "\n",
    "\n",
    "def LastDigitofFib():\n",
    "    n = int(input())\n",
    "    a = list()\n",
    "    a = [None] * 500\n",
    "    a[0] = 0\n",
    "    a[1] = 1\n",
    "    for i in range(2, n+1):\n",
    "        a[i]= a[i-1] + a[i-2]\n",
    "    return a[n]%10\n",
    "\n"
   ]
  },
  {
   "cell_type": "code",
   "execution_count": 41,
   "metadata": {},
   "outputs": [],
   "source": [
    "# 3 Greatest Common Divisor\n",
    "#Task. Given two integers a and b, find their greatest common divisor.\n",
    "# Input Format. The two integers a, b are given in the same line separated by space.\n",
    "# Constraints. 1 ≤ a, b ≤ 2 · 10 9 .\n",
    "# Output Format. Output GCD(a, b).\n",
    "\n",
    "def main():\n",
    "    l = [int(x) for x in input().split()]\n",
    "    return GCD(l[0], l[1])\n",
    "    \n",
    "def GCD(a,b):\n",
    "    if(b==0): return a\n",
    "    return GCD(b, a%b)"
   ]
  },
  {
   "cell_type": "code",
   "execution_count": 44,
   "metadata": {},
   "outputs": [],
   "source": [
    "# 4 Least Common Multiple\n",
    "# Task. Given two integers a and b, find their least common multiple.\n",
    "# Input Format. The two integers a and b are given in the same line separated by space.\n",
    "# Constraints. 1 ≤ a, b ≤ 2 · 10 9 .\n",
    "# Output Format. Output the least common multiple of a and b.\n",
    "\n",
    "def LCM():\n",
    "    l = [int(x) for x in input().split()]\n",
    "    return l[0]*l[1]/GCD(l[0], l[1])\n",
    "\n",
    "def GCD(a,b):\n",
    "    if(b==0): return a\n",
    "    return GCD(b, a%b)"
   ]
  },
  {
   "cell_type": "code",
   "execution_count": 22,
   "metadata": {},
   "outputs": [
    {
     "name": "stdout",
     "output_type": "stream",
     "text": [
      "3 10\n"
     ]
    },
    {
     "data": {
      "text/plain": [
       "2"
      ]
     },
     "execution_count": 22,
     "metadata": {},
     "output_type": "execute_result"
    }
   ],
   "source": [
    "# 5 Fibonacci Number Again\n",
    "# Task. Given two integers n and m, output F n mod m (that is, the remainder of F n when divided by m).\n",
    "# Input Format. The input consists of two integers n and m given on the same line (separated by a space).\n",
    "# Constraints. 1 ≤ n ≤ 10 18 , 2 ≤ m ≤ 10 3 .\n",
    "# Output Format. Output F n mod m.\n",
    "\n",
    "def getPisano(m):\n",
    "    a=0\n",
    "    b=1\n",
    "    for i in range(0, m*m+1):\n",
    "        c = (a+b)%m\n",
    "        a = b\n",
    "        b = c\n",
    "        if(a==0 and b==1):\n",
    "            ans = i+1\n",
    "            break\n",
    "    return ans\n",
    "\n",
    "def Fibonacci(x):\n",
    "    lst = [None] * 500\n",
    "    lst[0] = 0\n",
    "    lst[1] = 1\n",
    "    for i in range(2, x+1):\n",
    "        lst[i] = lst[i-1] + lst[i-2]\n",
    "    return lst[x]\n",
    "\n",
    "def LargeFibMod():\n",
    "    lst = [int(x) for x in input().split()]\n",
    "    n = lst[0]\n",
    "    m = lst[1]\n",
    "    rem = n%(getPisano(m))\n",
    "    return Fibonacci(rem)%m \n",
    "LargeFibMod()"
   ]
  },
  {
   "cell_type": "code",
   "execution_count": 25,
   "metadata": {},
   "outputs": [
    {
     "name": "stdout",
     "output_type": "stream",
     "text": [
      "100\n"
     ]
    },
    {
     "data": {
      "text/plain": [
       "5"
      ]
     },
     "execution_count": 25,
     "metadata": {},
     "output_type": "execute_result"
    }
   ],
   "source": [
    "# 6 Last Digit of the Sum of Fibonacci Numbers\n",
    "# Task. Given an integer n, find the last digit of the sum F 0 + F 1 + · · · + F n .\n",
    "# Input Format. The input consists of a single integer n.\n",
    "# Constraints. 0 ≤ n ≤ 10 18 .\n",
    "# Output Format. Output the last digit of F 0 + F 1 + · · · + F n .\n",
    "\n",
    "def getPisano(m):\n",
    "    a=0\n",
    "    b=1\n",
    "    for i in range(0, m*m+1):\n",
    "        c = (a+b)%m\n",
    "        a = b\n",
    "        b = c\n",
    "        if(a==0 and b==1):\n",
    "            ans = i+1\n",
    "            break\n",
    "    return ans\n",
    "\n",
    "def Fibonacci(x):\n",
    "    lst = [None] * 500\n",
    "    lst[0] = 0\n",
    "    lst[1] = 1\n",
    "    for i in range(2, x+1):\n",
    "        lst[i] = lst[i-1] + lst[i-2]\n",
    "    return lst[x]\n",
    "\n",
    "def LastDigitSum():\n",
    "    inp = int(input())\n",
    "    m = getPisano(10)\n",
    "    n = (inp+2)%m\n",
    "    return Fibonacci(n)%10-1 \n",
    "LastDigitSum()"
   ]
  },
  {
   "cell_type": "code",
   "execution_count": 34,
   "metadata": {},
   "outputs": [
    {
     "name": "stdout",
     "output_type": "stream",
     "text": [
      "10 200\n"
     ]
    },
    {
     "data": {
      "text/plain": [
       "2"
      ]
     },
     "execution_count": 34,
     "metadata": {},
     "output_type": "execute_result"
    }
   ],
   "source": [
    "# 7 Last Digit of the Sum of Fibonacci Numbers Again\n",
    "# Task. Given two non-negative integers m and n, where m ≤ n, find the last digit of the sum F m + F m+1 +\n",
    "# · · · + F n .\n",
    "# Input Format. The input consists of two non-negative integers m and n separated by a space.\n",
    "# Constraints. 0 ≤ m ≤ n ≤ 10 18 .\n",
    "# Output Format. Output the last digit of F m + F m+1 + · · · + F n .\n",
    "\n",
    "def getPisano(m):\n",
    "    a = 0\n",
    "    b = 1\n",
    "    for i in range(0, m*m+1):\n",
    "        c = (a+b)%m\n",
    "        a = b\n",
    "        b = c\n",
    "        if(a==0 and b==1):\n",
    "            ans = i+1\n",
    "            break\n",
    "    return ans\n",
    "\n",
    "def Fibonacci(x):\n",
    "    lst = [None] * 500\n",
    "    lst[0]=0\n",
    "    lst[1]=1\n",
    "    for i in range(2,x+1):\n",
    "        lst[i] = lst[i-1] + lst[i-2]\n",
    "    return lst[x]\n",
    "\n",
    "def LastDigitofSum2Fib():\n",
    "    a = [int(x) for x in input().split()]\n",
    "    m = a[0]\n",
    "    n = a[1]\n",
    "    p = getPisano(10)\n",
    "    m = (m+1)%p\n",
    "    n = (n+2)%p\n",
    "    diff = (Fibonacci(n)%10 - Fibonacci(m)%10 + 10)%10\n",
    "    return diff\n",
    "LastDigitofSum2Fib()"
   ]
  },
  {
   "cell_type": "markdown",
   "metadata": {},
   "source": []
  },
  {
   "cell_type": "code",
   "execution_count": 7,
   "metadata": {},
   "outputs": [
    {
     "name": "stdout",
     "output_type": "stream",
     "text": [
      "1234567890\n"
     ]
    },
    {
     "data": {
      "text/plain": [
       "0"
      ]
     },
     "execution_count": 7,
     "metadata": {},
     "output_type": "execute_result"
    }
   ],
   "source": [
    "# 8 Last Digit of the Sum of Squares of Fibonacci Numbers\n",
    "# Task. Compute the last digit of F 0 2 + F 1 2 + · · · + F n 2 .\n",
    "# Input Format. Integer n.\n",
    "# Constraints. 0 ≤ n ≤ 10 18 .\n",
    "# Output Format. The last digit of F 0 2 + F 1 2 + · · · + F n 2 .\n",
    "def Fibonacci(x):\n",
    "    lst = [None] * 500\n",
    "    lst[0] = 0\n",
    "    lst[1] = 1\n",
    "    for i in range(2, x+1):\n",
    "        lst[i] = lst[i-1] + lst[i-2]\n",
    "    return lst[x]\n",
    "\n",
    "def getPisano(m):\n",
    "    a = 0\n",
    "    b = 1\n",
    "    for i in range(0, m*m+1):\n",
    "        c=(a+b)%m\n",
    "        a=b\n",
    "        b=c\n",
    "        if(a==0 and b==1):\n",
    "            ans = i+1\n",
    "            break\n",
    "    return ans\n",
    "\n",
    "def LastDigitSumSquaresFib():\n",
    "    n = int(input())\n",
    "    m = getPisano(10)\n",
    "    n1 = n%m\n",
    "    n2 = (n-1)%m\n",
    "    Fn1 = Fibonacci(n1)%10\n",
    "    Fn2 = Fibonacci(n2)%10\n",
    "    ans = (Fn1 * (Fn1 + Fn2))%10 \n",
    "    return ans\n",
    "\n",
    "LastDigitSumSquaresFib()\n",
    "     "
   ]
  },
  {
   "cell_type": "code",
   "execution_count": null,
   "metadata": {},
   "outputs": [],
   "source": []
  }
 ],
 "metadata": {
  "kernelspec": {
   "display_name": "Python 3",
   "language": "python",
   "name": "python3"
  },
  "language_info": {
   "codemirror_mode": {
    "name": "ipython",
    "version": 3
   },
   "file_extension": ".py",
   "mimetype": "text/x-python",
   "name": "python",
   "nbconvert_exporter": "python",
   "pygments_lexer": "ipython3",
   "version": "3.7.0"
  }
 },
 "nbformat": 4,
 "nbformat_minor": 2
}
