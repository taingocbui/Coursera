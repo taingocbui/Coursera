{
 "cells": [
  {
   "cell_type": "code",
   "execution_count": 3,
   "metadata": {},
   "outputs": [
    {
     "name": "stdout",
     "output_type": "stream",
     "text": [
      "4\n",
      "1 2 3 4\n",
      "12\n",
      "12\n"
     ]
    }
   ],
   "source": [
    "#python3\n",
    "import random\n",
    "n = int(input())\n",
    "a = [int(x) for x in input().split()]\n",
    "\n",
    "def MaxPairWiseProductNaive(a = [],*args):\n",
    "    product = 0\n",
    "    for i in range(n):\n",
    "        for j in range(i+1, n):\n",
    "            product = max(product, a[i]*a[j])\n",
    "    return product\n",
    "\n",
    "def MaxPairWiseProductFast(a = [],*args):\n",
    "    maxindex1 = 0\n",
    "    for i in range(1, n):\n",
    "        if(a[i] > a[maxindex1]): maxindex1 = i\n",
    "    if(maxindex1 == 0): maxindex2 = 1\n",
    "    else: maxindex2 = 0\n",
    "    for i in range(1, n):\n",
    "        if(a[i] > a[maxindex2] and i!= maxindex1): maxindex2 = i\n",
    "    return a[maxindex1] * a[maxindex2]\n",
    "\n",
    "print(MaxPairWiseProductNaive(a))\n",
    "print(MaxPairWiseProductFast(a))"
   ]
  },
  {
   "cell_type": "code",
   "execution_count": null,
   "metadata": {},
   "outputs": [],
   "source": []
  },
  {
   "cell_type": "code",
   "execution_count": null,
   "metadata": {},
   "outputs": [],
   "source": []
  }
 ],
 "metadata": {
  "kernelspec": {
   "display_name": "Python 3",
   "language": "python",
   "name": "python3"
  },
  "language_info": {
   "codemirror_mode": {
    "name": "ipython",
    "version": 3
   },
   "file_extension": ".py",
   "mimetype": "text/x-python",
   "name": "python",
   "nbconvert_exporter": "python",
   "pygments_lexer": "ipython3",
   "version": "3.7.0"
  }
 },
 "nbformat": 4,
 "nbformat_minor": 2
}
